{
 "cells": [
  {
   "cell_type": "code",
   "execution_count": 26,
   "metadata": {},
   "outputs": [
    {
     "name": "stdout",
     "output_type": "stream",
     "text": [
      "2.0\n",
      "1.0\n",
      "1.0\n",
      "0.4\n"
     ]
    }
   ],
   "source": [
    "import matplotlib.pyplot as plt\n",
    "from PIL import Image\n",
    "from pylab import *\n",
    "from numpy import *\n",
    "from scipy import *\n",
    "from numpy import array\n",
    "from random import randint\n",
    "import numpy as np\n",
    "\n",
    "x1 = 1 \n",
    "x2 = 1 \n",
    "x3 = 1\n",
    "x4 = 1\n",
    "\n",
    "matriz = [[1*x1, 2*x2, 3*x3, 4*x4, 10],\n",
    "         [2*x1, 1*x2, 2*x3, 3*x4, 7],\n",
    "         [3*x1, 2*x2, 1*x3, 2*x4, 6],\n",
    "         [4*x1, 3*x2, 2*x3, 1*x4, 5]]\n",
    "\n",
    "matriz2 = [[1*x1, 2*x2, 3*x3, 4*x4, 10],\n",
    "         [2*x1, 1*x2, 2*x3, 3*x4, 7],\n",
    "         [3*x1, 2*x2, 1*x3, 2*x4, 6],\n",
    "         [4*x1, 3*x2, 2*x3, 1*x4, 5]]\n",
    "\n",
    "matrizresult = [10, 7, 6, 5]\n",
    "def gauss (matriz):\n",
    "    lenMatriz = len(matriz)\n",
    "    for coluna in range (lenMatriz):\n",
    "        div = matriz[coluna-1][coluna]/matriz[coluna][coluna+1]\n",
    "        coluna = coluna+1\n",
    "        print (div)\n",
    "        for linha in range (lenMatriz):\n",
    "            try:\n",
    "                div = matriz[coluna-1][linha]/matriz[coluna][linha]\n",
    "                \n",
    "#                 print(matriz[coluna][linha])\n",
    "            except:\n",
    "                pass\n",
    "\n",
    "matrizResult = gauss(matriz)"
   ]
  }
 ],
 "metadata": {
  "kernelspec": {
   "display_name": "Python 3",
   "language": "python",
   "name": "python3"
  },
  "language_info": {
   "codemirror_mode": {
    "name": "ipython",
    "version": 3
   },
   "file_extension": ".py",
   "mimetype": "text/x-python",
   "name": "python",
   "nbconvert_exporter": "python",
   "pygments_lexer": "ipython3",
   "version": "3.7.0"
  }
 },
 "nbformat": 4,
 "nbformat_minor": 2
}
