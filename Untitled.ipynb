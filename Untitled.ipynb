{
 "cells": [
  {
   "cell_type": "code",
   "execution_count": 17,
   "metadata": {},
   "outputs": [
    {
     "name": "stdout",
     "output_type": "stream",
     "text": [
      "2\n",
      "1\n",
      "2\n",
      "3\n",
      "3\n",
      "2\n",
      "1\n",
      "2\n",
      "4\n",
      "3\n",
      "2\n",
      "1\n"
     ]
    },
    {
     "ename": "IndexError",
     "evalue": "list index out of range",
     "output_type": "error",
     "traceback": [
      "\u001b[1;31m---------------------------------------------------------------------------\u001b[0m",
      "\u001b[1;31mIndexError\u001b[0m                                Traceback (most recent call last)",
      "\u001b[1;32m<ipython-input-17-badcb37daa71>\u001b[0m in \u001b[0;36m<module>\u001b[1;34m()\u001b[0m\n\u001b[0;32m     32\u001b[0m \u001b[1;33m\u001b[0m\u001b[0m\n\u001b[0;32m     33\u001b[0m \u001b[1;33m\u001b[0m\u001b[0m\n\u001b[1;32m---> 34\u001b[1;33m \u001b[0mmatrizResult\u001b[0m \u001b[1;33m=\u001b[0m \u001b[0mgauss\u001b[0m\u001b[1;33m(\u001b[0m\u001b[0mmatriz\u001b[0m\u001b[1;33m)\u001b[0m\u001b[1;33m\u001b[0m\u001b[0m\n\u001b[0m",
      "\u001b[1;32m<ipython-input-17-badcb37daa71>\u001b[0m in \u001b[0;36mgauss\u001b[1;34m(matriz)\u001b[0m\n\u001b[0;32m     29\u001b[0m         \u001b[0mi\u001b[0m \u001b[1;33m=\u001b[0m \u001b[0mi\u001b[0m\u001b[1;33m+\u001b[0m\u001b[1;36m1\u001b[0m\u001b[1;33m\u001b[0m\u001b[0m\n\u001b[0;32m     30\u001b[0m         \u001b[1;32mfor\u001b[0m \u001b[0mj\u001b[0m \u001b[1;32min\u001b[0m \u001b[0mrange\u001b[0m \u001b[1;33m(\u001b[0m\u001b[0mlenMatriz\u001b[0m\u001b[1;33m)\u001b[0m\u001b[1;33m:\u001b[0m\u001b[1;33m\u001b[0m\u001b[0m\n\u001b[1;32m---> 31\u001b[1;33m             \u001b[0mprint\u001b[0m\u001b[1;33m(\u001b[0m\u001b[0mmatriz\u001b[0m\u001b[1;33m[\u001b[0m\u001b[0mi\u001b[0m\u001b[1;33m]\u001b[0m\u001b[1;33m[\u001b[0m\u001b[0mj\u001b[0m\u001b[1;33m]\u001b[0m\u001b[1;33m)\u001b[0m\u001b[1;33m\u001b[0m\u001b[0m\n\u001b[0m\u001b[0;32m     32\u001b[0m \u001b[1;33m\u001b[0m\u001b[0m\n\u001b[0;32m     33\u001b[0m \u001b[1;33m\u001b[0m\u001b[0m\n",
      "\u001b[1;31mIndexError\u001b[0m: list index out of range"
     ]
    }
   ],
   "source": [
    "import matplotlib.pyplot as plt\n",
    "from PIL import Image\n",
    "from pylab import *\n",
    "from numpy import *\n",
    "from scipy import *\n",
    "from numpy import array\n",
    "from random import randint\n",
    "import numpy as np\n",
    "\n",
    "x1 = 1 \n",
    "x2 = 1 \n",
    "x3 = 1\n",
    "x4 = 1\n",
    "\n",
    "matriz = [[1*x1, 2*x2, 3*x3, 4*x4, 10],\n",
    "         [2*x1, 1*x2, 2*x3, 3*x4, 7],\n",
    "         [3*x1, 2*x2, 1*x3, 2*x4, 6],\n",
    "         [4*x1, 3*x2, 2*x3, 1*x4, 5]]\n",
    "\n",
    "matriz2 = [[1*x1, 2*x2, 3*x3, 4*x4, 10],\n",
    "         [2*x1, 1*x2, 2*x3, 3*x4, 7],\n",
    "         [3*x1, 2*x2, 1*x3, 2*x4, 6],\n",
    "         [4*x1, 3*x2, 2*x3, 1*x4, 5]]\n",
    "\n",
    "matrizresult = [10, 7, 6, 5]\n",
    "def gauss (matriz):\n",
    "    lenMatriz = len(matriz)\n",
    "    for i in range (lenMatriz):\n",
    "        i = i+1\n",
    "        for j in range (lenMatriz):\n",
    "            div = \n",
    "            print(matriz[i][j])\n",
    "            \n",
    "\n",
    "matrizResult = gauss(matriz)"
   ]
  }
 ],
 "metadata": {
  "kernelspec": {
   "display_name": "Python 3",
   "language": "python",
   "name": "python3"
  },
  "language_info": {
   "codemirror_mode": {
    "name": "ipython",
    "version": 3
   },
   "file_extension": ".py",
   "mimetype": "text/x-python",
   "name": "python",
   "nbconvert_exporter": "python",
   "pygments_lexer": "ipython3",
   "version": "3.7.0"
  }
 },
 "nbformat": 4,
 "nbformat_minor": 2
}
